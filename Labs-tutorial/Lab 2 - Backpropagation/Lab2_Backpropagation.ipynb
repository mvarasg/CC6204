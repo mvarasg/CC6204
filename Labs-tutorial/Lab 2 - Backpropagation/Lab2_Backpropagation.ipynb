{
  "nbformat": 4,
  "nbformat_minor": 0,
  "metadata": {
    "kernelspec": {
      "display_name": "Python 3",
      "language": "python",
      "name": "python3"
    },
    "language_info": {
      "codemirror_mode": {
        "name": "ipython",
        "version": 3
      },
      "file_extension": ".py",
      "mimetype": "text/x-python",
      "name": "python",
      "nbconvert_exporter": "python",
      "pygments_lexer": "ipython3",
      "version": "3.8.1"
    },
    "colab": {
      "name": "Backpropagation.ipynb",
      "provenance": [],
      "collapsed_sections": []
    }
  },
  "cells": [
    {
      "cell_type": "markdown",
      "source": [
        "In this notebook, you will learn how to train a multilayer perceptron with backpropagation. This implementation only requires Numpy and the algorithm is implemented from scratch."
      ],
      "metadata": {
        "id": "TRD_k9T1e0qa"
      }
    },
    {
      "cell_type": "code",
      "metadata": {
        "id": "Q68c4uU8eG-V"
      },
      "source": [
        "import numpy as np\n",
        "import matplotlib.pyplot as plt\n",
        "\n",
        "np.random.seed(3)"
      ],
      "execution_count": 13,
      "outputs": []
    },
    {
      "cell_type": "markdown",
      "source": [
        "For our experiment, we create a synthetic dataset with points in 2D."
      ],
      "metadata": {
        "id": "WMbaMTXafDdo"
      }
    },
    {
      "cell_type": "code",
      "metadata": {
        "id": "AAa8FV53eG-v"
      },
      "source": [
        "from sklearn.model_selection import train_test_split\n",
        "\n",
        "#Let's create a dataset of 2D points. \n",
        "X11 = np.random.randn(500, 2)\n",
        "X12 = np.random.randn(500, 2) + 4.0\n",
        "\n",
        "X21 = np.random.randn(500, 2) + np.array([4.0,0.0])\n",
        "X22 = np.random.randn(500, 2) + np.array([0.0,4.0])\n",
        "\n",
        "X1 = np.concatenate([X11, X12], axis=0)\n",
        "X2 = np.concatenate([X21, X22], axis=0)\n",
        "\n",
        "X_train = np.concatenate([X1, X2], axis=0)\n",
        "\n",
        "#We also create the labels\n",
        "Y1 = np.zeros((1000, 1)) #The points in the first distribution have class 0\n",
        "Y2 = np.ones((1000, 1)) # The points in the second distribution have class 1\n",
        "\n",
        "#The first 750 labels of each distribution go in the training set\n",
        "Y_train = np.concatenate([Y1, Y2], axis=0)\n",
        "\n",
        "X_train, X_test, Y_train, Y_test = train_test_split(X_train, Y_train, test_size=0.2)\n",
        "\n",
        "#Plot the training set\n",
        "plt.figure()\n",
        "plt.scatter(X_train[:,0], X_train[:,1], c=Y_train, cmap=plt.cm.Spectral)\n",
        "plt.show()"
      ],
      "execution_count": null,
      "outputs": []
    },
    {
      "cell_type": "markdown",
      "source": [
        "We implement a Linear module. This module represent a layer in a MLP network. It contains the weight matrix and the bias vector."
      ],
      "metadata": {
        "id": "yG84prp0fPBM"
      }
    },
    {
      "cell_type": "code",
      "metadata": {
        "id": "Rz1RNo9MeG-_"
      },
      "source": [
        "#This class describes a fully connected layer (without activation function)\n",
        "\n",
        "class Linear:\n",
        "    # W: weight matrix (in x out)\n",
        "    # b: bias (out x 1)\n",
        "    \n",
        "    #Constructor - we define the parameters of this layer\n",
        "    def __init__(self, num_inputs, num_outputs, learning_rate, name):\n",
        "      #The parameters are initialized randomly - uniform distribution [0,1)\n",
        "      self.W = np.random.rand(num_inputs, num_outputs)\n",
        "      self.b = np.zeros((num_outputs, 1))\n",
        "      self.lr = learning_rate\n",
        "      self.name = name\n",
        "    \n",
        "    # input: mini-batch (batch_size x in)\n",
        "    # This function only operates the linear function\n",
        "    def forward(self, input):\n",
        "      self.inputs = input\n",
        "      return np.dot(self.inputs, self.W) + self.b.T\n",
        "    \n",
        "    # dy: Error in next layer (batch_size x out)\n",
        "    # This functions receives the error of the next layer and computes the error in this layer\n",
        "    def backward(self, dy):\n",
        "      batch_size = dy.shape[0]\n",
        "      dy = dy.T # (out x batch_size)\n",
        "      dw = dy.dot(self.inputs) #(out x in)\n",
        "      db = np.sum(dy, axis=1, keepdims=True) #(out x 1)\n",
        "      dx = np.dot(dy.T, self.W.T) # (batch_size x out) x (out x in)\n",
        "       \n",
        "      #SGD Rules\n",
        "      self.W -= (self.lr/batch_size)*dw.T\n",
        "      self.b -= (self.lr/batch_size)*db\n",
        "        \n",
        "      #The function computes the error in this layer and returns it for backpropagation\n",
        "      return dx\n",
        "    \n",
        "#Class for the sigmoid activation function\n",
        "class Sigmoid:\n",
        "    def __init__(self):\n",
        "      pass\n",
        "    \n",
        "    #Computes the sigmoid function\n",
        "    def forward(self, inputs):\n",
        "      self.output = 1/(1 + np.exp(-inputs))\n",
        "      return self.output\n",
        "    \n",
        "    #Backpropagates the incoming error using the derivative of sigmoid\n",
        "    def backward(self, dy):\n",
        "      return dy*self.output*(1-self.output) # dy/4\n"
      ],
      "execution_count": 15,
      "outputs": []
    },
    {
      "cell_type": "code",
      "metadata": {
        "id": "bgIrYTE4eG_K"
      },
      "source": [
        "#Loss function\n",
        "def mse(output, labels):\n",
        "  return 0.5*np.sum((output-labels)**2)\n",
        "\n",
        "#Class for the neural network\n",
        "class NetworkSigmoid:\n",
        "    def __init__(self):\n",
        "      lr = 0.01 #Learning rate\n",
        "        \n",
        "      #The layers are in a list\n",
        "      # We create a three-layer network with sigmoid neurons\n",
        "      self.layers = [] \n",
        "      self.layers.append(Linear(num_inputs=2, num_outputs=5, learning_rate=lr, name='fc1')) #10 + 5 = 15\n",
        "      self.layers.append(Sigmoid())\n",
        "      self.layers.append(Linear(num_inputs=5, num_outputs=5, learning_rate=lr, name='fc2')) #25 + 5 = 30     = Cost is a function 51-dimensional space\n",
        "      self.layers.append(Sigmoid())\n",
        "      self.layers.append(Linear(num_inputs=5, num_outputs=1, learning_rate=lr, name='fc2')) #5 + 1 = 6\n",
        "      self.layers.append(Sigmoid())\n",
        "      self.num_layers = len(self.layers)\n",
        "    \n",
        "    #Implements the training algorithm with mini-batch SGD\n",
        "    def train(self, training_data, training_label, batch_size, epoch, test_data, test_label, verbose=False):\n",
        "      #History values of losses\n",
        "      train_loss = []\n",
        "      test_loss = []\n",
        "        \n",
        "      #Main outer loop\n",
        "      for e in range(epoch):\n",
        "        # Perform a training epoch\n",
        "        loss = 0\n",
        "      \n",
        "        #Iterate over each batch\n",
        "        for batch_index in range(0, training_data.shape[0], batch_size):\n",
        "          #We need to identify whether a batch is complete or a batch is incomplete because it is the last one \n",
        "          if batch_index+batch_size < training_data.shape[0]:\n",
        "            data = training_data[batch_index:batch_index+batch_size]\n",
        "            label = training_label[batch_index:batch_index+batch_size]\n",
        "          else:\n",
        "            data = training_data[batch_index:training_data.shape[0]]\n",
        "            label = training_label[batch_index:training_label.shape[0]]\n",
        "                                \n",
        "          acc = 0\n",
        "                \n",
        "          #Forward pass - iterate over the list of layers\n",
        "          x = data\n",
        "          for l in range(self.num_layers):\n",
        "            output = self.layers[l].forward(x)\n",
        "            x = output\n",
        "\n",
        "          #The first error is the derivative of the loss wrt. the NN output          \n",
        "          dy = output - label\n",
        "          loss += mse(output, label) #Compute the loss\n",
        "\n",
        "          #Backpropagate\n",
        "          for l in range(self.num_layers-1, -1, -1):\n",
        "            dout = self.layers[l].backward(dy)\n",
        "            dy = dout\n",
        "                    \n",
        "        #End of an epoch\n",
        "        loss /= training_data.shape[0]\n",
        "        train_loss.append(loss)\n",
        "                                  \n",
        "        #Test after one epoch\n",
        "        loss = 0\n",
        "        outputs = []\n",
        "            \n",
        "        correct = 0\n",
        "        for batch_index in range(0, test_data.shape[0], batch_size):\n",
        "          if batch_index+batch_size < test_data.shape[0]:\n",
        "            data = test_data[batch_index:batch_index+batch_size]\n",
        "            label = test_label[batch_index:batch_index+batch_size]\n",
        "          else:\n",
        "            data = test_data[batch_index:test_data.shape[0]]\n",
        "            label = test_label[batch_index:test_label.shape[0]]\n",
        "                                \n",
        "          acc = 0\n",
        "                \n",
        "          #Forward pass\n",
        "          x = data\n",
        "          for l in range(self.num_layers):\n",
        "            output = self.layers[l].forward(x)\n",
        "            x = output\n",
        "                \n",
        "          loss += mse(output, label)\n",
        "                \n",
        "          test_output = (output >= 0.5)\n",
        "          #Compare the output of the network with the correct labels\n",
        "          correct += (test_output == label).sum()\n",
        "            \n",
        "        loss /= test_data.shape[0]\n",
        "        test_loss.append(loss)\n",
        "            \n",
        "        if verbose:\n",
        "          print('Epoch {}/{}: loss = {}: Test accuracy={}'.format(e, epoch, loss, (100*correct)/test_label.shape[0]))\n",
        "        else:\n",
        "          if e % 20 == 0:\n",
        "            print('Epoch {}/{}: loss = {}: Test accuracy={}'.format(e, epoch, loss, (100*correct)/test_label.shape[0]))\n",
        "                    \n",
        "      return dict({'train_loss': train_loss, 'test_loss':test_loss})\n",
        "    \n",
        "    def evaluate(self, data, label, batch_size):\n",
        "      correct = 0\n",
        "      for batch_index in range(0, data.shape[0], batch_size):\n",
        "        if batch_index+batch_size < data.shape[0]:\n",
        "          ndata = data[batch_index:batch_index+batch_size]\n",
        "          nlabel = label[batch_index:batch_index+batch_size]\n",
        "        else:\n",
        "          ndata = data[batch_index:data.shape[0]]\n",
        "          nlabel = label[batch_index:label.shape[0]]\n",
        "            \n",
        "        x = ndata\n",
        "        for l in range(self.num_layers):\n",
        "          output = self.layers[l].forward(x)\n",
        "          x = output\n",
        "            \n",
        "        test_output = (output >= 0.5)\n",
        "        #Compare the output of the network with the correct labels\n",
        "        correct += (test_output == nlabel).sum()\n",
        "        \n",
        "      return (100*correct)/label.shape[0]\n",
        "\n",
        "    def predict(self, data, batch_size):\n",
        "      output_pred = []\n",
        "\n",
        "      for batch_index in range(0, data.shape[0], batch_size):\n",
        "        if batch_index+batch_size < data.shape[0]:\n",
        "          ndata = data[batch_index:batch_index+batch_size]\n",
        "        else:\n",
        "          ndata = data[batch_index:data.shape[0]]\n",
        "                    \n",
        "        x = ndata\n",
        "        for l in range(self.num_layers):\n",
        "          output = self.layers[l].forward(x)\n",
        "          x = output\n",
        "                    \n",
        "        test_output = (output >= 0.5)\n",
        "        #test_output = np.argmax(output, axis=1)\n",
        "        output_pred.append(test_output)\n",
        "      \n",
        "      return np.vstack(output_pred)\n",
        "                \n",
        "        "
      ],
      "execution_count": 16,
      "outputs": []
    },
    {
      "cell_type": "markdown",
      "source": [
        "Train the network for 2000 epochs and compute accuracy in train and test set."
      ],
      "metadata": {
        "id": "Wuv3LkDagepI"
      }
    },
    {
      "cell_type": "code",
      "metadata": {
        "id": "ul4jHweyeG_Y"
      },
      "source": [
        "net = NetworkSigmoid()\n",
        "history = net.train(X_train, Y_train, 20, 2000, X_test, Y_test)\n",
        "\n",
        "print('Train accuracy:{} - Test accuracy: {}'.format(net.evaluate(X_train, Y_train, 20), net.evaluate(X_test, Y_test, 20)))"
      ],
      "execution_count": null,
      "outputs": []
    },
    {
      "cell_type": "markdown",
      "source": [
        "The network finishes with train and test accuracy of 62%"
      ],
      "metadata": {
        "id": "T_5se5GRhCF1"
      }
    },
    {
      "cell_type": "code",
      "metadata": {
        "id": "2GjzonegeG_k"
      },
      "source": [
        "plt.figure()\n",
        "plt.plot(history['train_loss'], color='b', label='Train Loss')\n",
        "plt.plot(history['test_loss'], color='r', label='Test loss')\n",
        "plt.legend()\n",
        "plt.show()"
      ],
      "execution_count": null,
      "outputs": []
    },
    {
      "cell_type": "markdown",
      "source": [
        "We visualize the 2D space and how the neural network divides the space in a non-linear way. But it is not enough to perform a good classification."
      ],
      "metadata": {
        "id": "QDvf6Du7hKFW"
      }
    },
    {
      "cell_type": "code",
      "metadata": {
        "id": "t430lTyUeG_x",
        "outputId": "9439ca71-65ea-44cb-a75f-4486c1f2ea93",
        "colab": {
          "base_uri": "https://localhost:8080/",
          "height": 282
        }
      },
      "source": [
        "h = 0.02\n",
        "data = X_test\n",
        "dataLabel = Y_test\n",
        "\n",
        "xmin, xmax = data[:,0].min()-1, data[:,0].max() + 1\n",
        "ymin, ymax = data[:,1].min()-1, data[:,1].max() + 1\n",
        "\n",
        "xx, yy = np.meshgrid(np.arange(xmin, xmax, h), np.arange(ymin, ymax, h))\n",
        "Z = net.predict(np.c_[xx.ravel(), yy.ravel()], 100)\n",
        "Z = Z.reshape(xx.shape)\n",
        "\n",
        "fig = plt.figure()\n",
        "plt.contourf(xx, yy, Z, cmap=plt.cm.Spectral, alpha=0.8)\n",
        "plt.scatter(data[:,0], data[:,1], c=dataLabel, cmap=plt.cm.Spectral, s=40)\n",
        "plt.xlim(xx.min(), xx.max())\n",
        "plt.ylim(yy.min(), yy.max())"
      ],
      "execution_count": 19,
      "outputs": [
        {
          "output_type": "execute_result",
          "data": {
            "text/plain": [
              "(-3.448441953750005, 7.991558046250005)"
            ]
          },
          "metadata": {},
          "execution_count": 19
        },
        {
          "output_type": "display_data",
          "data": {
            "text/plain": [
              "<Figure size 432x288 with 1 Axes>"
            ],
            "image/png": "[encoded data removed]"
          },
          "metadata": {
            "needs_background": "light"
          }
        }
      ]
    },
    {
      "cell_type": "markdown",
      "source": [
        "# Exercise 1\n",
        "Implement the ReLU activation function and experiment with the training.\n"
      ],
      "metadata": {
        "id": "ed6IuxmKj-Xb"
      }
    },
    {
      "cell_type": "code",
      "source": [
        "class ReLU:\n",
        "  def __init__(self):\n",
        "    pass\n",
        "  \n",
        "  def forward(self, input):\n",
        "    self.input = input\n",
        "    ret = input.copy()\n",
        "    ret[ret<0] = 0\n",
        "    return ret\n",
        "  \n",
        "  def backward(self, dy):\n",
        "    dx = dy.copy()\n",
        "    dx[self.input<0] = 0\n",
        "    return dx"
      ],
      "metadata": {
        "id": "AXwEOhCdhaqI"
      },
      "execution_count": 20,
      "outputs": []
    },
    {
      "cell_type": "markdown",
      "source": [
        "And now we implement a new neural network class with ReLU activation function."
      ],
      "metadata": {
        "id": "DblJQzEwh-AV"
      }
    },
    {
      "cell_type": "code",
      "source": [
        "#Class for the neural network\n",
        "class NetworkReLU:\n",
        "    def __init__(self):\n",
        "      lr = 0.01 #Learning rate\n",
        "        \n",
        "      #The layers are in a list\n",
        "      # We create a three-layer network with sigmoid neurons\n",
        "      self.layers = [] \n",
        "      self.layers.append(Linear(num_inputs=2, num_outputs=5, learning_rate=lr, name='fc1')) #10 + 5 = 15\n",
        "      self.layers.append(ReLU())\n",
        "      self.layers.append(Linear(num_inputs=5, num_outputs=5, learning_rate=lr, name='fc2')) #25 + 5 = 30     = Cost is a function 51-dimensional space\n",
        "      self.layers.append(ReLU())\n",
        "      self.layers.append(Linear(num_inputs=5, num_outputs=1, learning_rate=lr, name='fc2')) #5 + 1 = 6\n",
        "      self.layers.append(Sigmoid())\n",
        "      self.num_layers = len(self.layers)\n",
        "    \n",
        "    #Implements the training algorithm with mini-batch SGD\n",
        "    def train(self, training_data, training_label, batch_size, epoch, test_data, test_label, verbose=False):\n",
        "      #History values of losses\n",
        "      train_loss = []\n",
        "      test_loss = []\n",
        "        \n",
        "      #Main outer loop\n",
        "      for e in range(epoch):\n",
        "        # Perform a training epoch\n",
        "        loss = 0\n",
        "      \n",
        "        #Iterate over each batch\n",
        "        for batch_index in range(0, training_data.shape[0], batch_size):\n",
        "          #We need to identify whether a batch is complete or a batch is incomplete because it is the last one \n",
        "          if batch_index+batch_size < training_data.shape[0]:\n",
        "            data = training_data[batch_index:batch_index+batch_size]\n",
        "            label = training_label[batch_index:batch_index+batch_size]\n",
        "          else:\n",
        "            data = training_data[batch_index:training_data.shape[0]]\n",
        "            label = training_label[batch_index:training_label.shape[0]]\n",
        "                                \n",
        "          acc = 0\n",
        "                \n",
        "          #Forward pass - iterate over the list of layers\n",
        "          x = data\n",
        "          for l in range(self.num_layers):\n",
        "            output = self.layers[l].forward(x)\n",
        "            x = output\n",
        "\n",
        "          #The first error is the derivative of the loss wrt. the NN output          \n",
        "          dy = output - label\n",
        "          loss += mse(output, label) #Compute the loss\n",
        "\n",
        "          #Backpropagate\n",
        "          for l in range(self.num_layers-1, -1, -1):\n",
        "            dout = self.layers[l].backward(dy)\n",
        "            dy = dout\n",
        "                    \n",
        "        #End of an epoch\n",
        "        loss /= training_data.shape[0]\n",
        "        train_loss.append(loss)\n",
        "                                  \n",
        "        #Test after one epoch\n",
        "        loss = 0\n",
        "        outputs = []\n",
        "            \n",
        "        correct = 0\n",
        "        for batch_index in range(0, test_data.shape[0], batch_size):\n",
        "          if batch_index+batch_size < test_data.shape[0]:\n",
        "            data = test_data[batch_index:batch_index+batch_size]\n",
        "            label = test_label[batch_index:batch_index+batch_size]\n",
        "          else:\n",
        "            data = test_data[batch_index:test_data.shape[0]]\n",
        "            label = test_label[batch_index:test_label.shape[0]]\n",
        "                                \n",
        "          acc = 0\n",
        "                \n",
        "          #Forward pass\n",
        "          x = data\n",
        "          for l in range(self.num_layers):\n",
        "            output = self.layers[l].forward(x)\n",
        "            x = output\n",
        "                \n",
        "          loss += mse(output, label)\n",
        "                \n",
        "          test_output = (output >= 0.5)\n",
        "          #Compare the output of the network with the correct labels\n",
        "          correct += (test_output == label).sum()\n",
        "            \n",
        "        loss /= test_data.shape[0]\n",
        "        test_loss.append(loss)\n",
        "            \n",
        "        if verbose:\n",
        "          print('Epoch {}/{}: loss = {}: Test accuracy={}'.format(e, epoch, loss, (100*correct)/test_label.shape[0]))\n",
        "        else:\n",
        "          if e % 20 == 0:\n",
        "            print('Epoch {}/{}: loss = {}: Test accuracy={}'.format(e, epoch, loss, (100*correct)/test_label.shape[0]))\n",
        "                    \n",
        "      return dict({'train_loss': train_loss, 'test_loss':test_loss})\n",
        "    \n",
        "    def evaluate(self, data, label, batch_size):\n",
        "      correct = 0\n",
        "      for batch_index in range(0, data.shape[0], batch_size):\n",
        "        if batch_index+batch_size < data.shape[0]:\n",
        "          ndata = data[batch_index:batch_index+batch_size]\n",
        "          nlabel = label[batch_index:batch_index+batch_size]\n",
        "        else:\n",
        "          ndata = data[batch_index:data.shape[0]]\n",
        "          nlabel = label[batch_index:label.shape[0]]\n",
        "            \n",
        "        x = ndata\n",
        "        for l in range(self.num_layers):\n",
        "          output = self.layers[l].forward(x)\n",
        "          x = output\n",
        "            \n",
        "        test_output = (output >= 0.5)\n",
        "        #Compare the output of the network with the correct labels\n",
        "        correct += (test_output == nlabel).sum()\n",
        "        \n",
        "      return (100*correct)/label.shape[0]\n",
        "\n",
        "    def predict(self, data, batch_size):\n",
        "      output_pred = []\n",
        "\n",
        "      for batch_index in range(0, data.shape[0], batch_size):\n",
        "        if batch_index+batch_size < data.shape[0]:\n",
        "          ndata = data[batch_index:batch_index+batch_size]\n",
        "        else:\n",
        "          ndata = data[batch_index:data.shape[0]]\n",
        "                    \n",
        "        x = ndata\n",
        "        for l in range(self.num_layers):\n",
        "          output = self.layers[l].forward(x)\n",
        "          x = output\n",
        "                    \n",
        "        test_output = (output >= 0.5)\n",
        "        #test_output = np.argmax(output, axis=1)\n",
        "        output_pred.append(test_output)\n",
        "      \n",
        "      return np.vstack(output_pred)"
      ],
      "metadata": {
        "id": "MzIjTtq2iKYH"
      },
      "execution_count": 21,
      "outputs": []
    },
    {
      "cell_type": "code",
      "source": [
        "net = NetworkReLU()\n",
        "history = net.train(X_train, Y_train, 20, 2000, X_test, Y_test)\n",
        "\n",
        "print('Train accuracy:{} - Test accuracy: {}'.format(net.evaluate(X_train, Y_train, 20), net.evaluate(X_test, Y_test, 20)))"
      ],
      "metadata": {
        "id": "3Rg93lHIBCyi"
      },
      "execution_count": null,
      "outputs": []
    },
    {
      "cell_type": "markdown",
      "source": [
        "We have around 96% accuracy in train, and 92% accuracy in test"
      ],
      "metadata": {
        "id": "JSWTnl6qBY29"
      }
    },
    {
      "cell_type": "code",
      "source": [
        "h = 0.02\n",
        "data = X_test\n",
        "dataLabel = Y_test\n",
        "\n",
        "xmin, xmax = data[:,0].min()-1, data[:,0].max() + 1\n",
        "ymin, ymax = data[:,1].min()-1, data[:,1].max() + 1\n",
        "\n",
        "xx, yy = np.meshgrid(np.arange(xmin, xmax, h), np.arange(ymin, ymax, h))\n",
        "Z = net.predict(np.c_[xx.ravel(), yy.ravel()], 100)\n",
        "Z = Z.reshape(xx.shape)\n",
        "\n",
        "fig = plt.figure()\n",
        "plt.contourf(xx, yy, Z, cmap=plt.cm.Spectral, alpha=0.8)\n",
        "plt.scatter(data[:,0], data[:,1], c=dataLabel, cmap=plt.cm.Spectral, s=40)\n",
        "plt.xlim(xx.min(), xx.max())\n",
        "plt.ylim(yy.min(), yy.max())"
      ],
      "metadata": {
        "id": "73PMukVaBmjO"
      },
      "execution_count": null,
      "outputs": []
    },
    {
      "cell_type": "markdown",
      "source": [
        "# Exercise 2\n",
        "Try to experiment with the following dataset:\n"
      ],
      "metadata": {
        "id": "Vdstl639kFZc"
      }
    },
    {
      "cell_type": "code",
      "metadata": {
        "id": "3MucYRXsGzrM"
      },
      "source": [
        "#Spiral dataset\n",
        "N = 1000\n",
        "D = 2\n",
        "K = 2\n",
        "\n",
        "X_train = np.zeros((N*K, D))\n",
        "Y_train = np.zeros((N*K,1), dtype='uint8')\n",
        "\n",
        "for j in range(K):\n",
        "  ix = range(N*j, N*(j+1))\n",
        "  r = np.linspace(0.0, 1, N)\n",
        "  t = np.linspace(j*4, (j+1)*4, N) + np.random.randn(N)*0.2\n",
        "  X_train[ix] = np.c_[r*np.sin(t), r*np.cos(t)]\n",
        "  Y_train[ix] = j\n",
        "\n",
        "fig = plt.figure()\n",
        "plt.scatter(X_train[:, 0], X_train[:, 1], c=Y_train, s=40, cmap=plt.cm.Spectral)\n",
        "plt.xlim([-1,1])\n",
        "plt.ylim([-1,1])\n",
        "\n",
        "X_train, X_test, Y_train, Y_test = train_test_split(X_train, Y_train, test_size=0.2)"
      ],
      "execution_count": null,
      "outputs": []
    },
    {
      "cell_type": "markdown",
      "source": [
        "# Exercise 3\n",
        "Try to experiment with the following dataset:"
      ],
      "metadata": {
        "id": "-hUFZsPMkYBf"
      }
    },
    {
      "cell_type": "code",
      "source": [
        "#Concentric circles dataset\n",
        "from sklearn.model_selection import train_test_split\n",
        "\n",
        "def generate_data(radius, numPoints):\n",
        "  N = np.random.rand(numPoints,1) * 2 * np.pi\n",
        "  R = radius\n",
        "  R = R + np.random.rand(numPoints, 1)*0.1\n",
        "  X = np.concatenate([R*np.cos(N), R*np.sin(N)], axis=1)\n",
        "  return X\n",
        "\n",
        "X_train = np.concatenate([generate_data(0.2, 1000), generate_data(0.8, 1000), \n",
        "                          generate_data(0.5, 1000), generate_data(1.1, 1000)], axis=0)\n",
        "Y_train = np.concatenate([np.zeros((2000,1)), np.ones((2000,1))])\n",
        "\n",
        "fig = plt.figure()\n",
        "plt.scatter(X_train[:, 0], X_train[:, 1], c=Y_train, s=10, cmap=plt.cm.Spectral)\n",
        "plt.xlim([-1.5,1.5])\n",
        "plt.ylim([-1.5,1.5])\n",
        "\n",
        "X_train, X_test, Y_train, Y_test = train_test_split(X_train, Y_train, test_size=0.2)"
      ],
      "metadata": {
        "id": "9rDZt0oxkWee"
      },
      "execution_count": null,
      "outputs": []
    }
  ]
}