{
  "nbformat": 4,
  "nbformat_minor": 0,
  "metadata": {
    "colab": {
      "provenance": [],
      "collapsed_sections": []
    },
    "kernelspec": {
      "name": "python3",
      "display_name": "Python 3"
    },
    "accelerator": "GPU"
  },
  "cells": [
    {
      "cell_type": "code",
      "metadata": {
        "id": "EuVKWDE95PfM"
      },
      "source": [
        "!wget http://www.ivan-sipiran.com/downloads/covid_dataset.zip\n",
        "!unzip covid_dataset.zip"
      ],
      "execution_count": null,
      "outputs": []
    },
    {
      "cell_type": "code",
      "metadata": {
        "id": "UdOrmNgDRF1I"
      },
      "source": [
        "import torch\n",
        "import torch.nn as nn\n",
        "import torch.nn.functional as F\n",
        "import torchvision\n",
        "import numpy as np\n",
        "import matplotlib.pyplot as plt\n",
        "from torchvision import datasets, models, transforms\n",
        "import time\n",
        "import os\n",
        "import copy\n",
        "from torchvision.io import read_image\n",
        "from PIL import Image\n"
      ],
      "execution_count": 45,
      "outputs": []
    },
    {
      "cell_type": "code",
      "source": [
        "class CovidDataset(torch.utils.data.Dataset):\n",
        "  def __init__(self, root, split, transform):\n",
        "    self.root = root\n",
        "    self.split = split\n",
        "    self.transform = transform\n",
        "    self.class2idx = dict()\n",
        "\n",
        "    self.class2idx['pneumonia'] = 0\n",
        "    self.class2idx['COVID-19'] = 1\n",
        "    self.class2idx['normal'] = 2\n",
        "\n",
        "    self.classes = ['pneumonia','COVID-19','normal']\n",
        "    dataset_file = os.path.join(self.root, f'{self.split}_split_v3.txt')\n",
        "    with open(dataset_file, 'r') as f:\n",
        "      lines = f.readlines()\n",
        "    \n",
        "    self.images = []\n",
        "    self.labels = []\n",
        "\n",
        "    for line in lines:\n",
        "      line = line.strip()\n",
        "      output = line.split(' ')\n",
        "      self.images.append(output[1])\n",
        "      self.labels.append(output[2])\n",
        "  \n",
        "  def __len__(self):\n",
        "    return len(self.images)\n",
        "  \n",
        "  def __getitem__(self, idx):\n",
        "    image_path = os.path.join(self.root, self.split, self.images[idx])\n",
        "    image = Image.open(image_path)\n",
        "    label = self.class2idx[self.labels[idx]]\n",
        "    im = image.convert('RGB')\n",
        "\n",
        "    if self.transform:\n",
        "      image = self.transform(im)\n",
        "      \n",
        "    return image, label\n",
        "\n",
        "\n",
        "dataset = CovidDataset(root='covid_dataset/', split='train',\n",
        "                                                transform=transforms.Compose([\n",
        "                                                    transforms.RandomResizedCrop(224),\n",
        "                                                    transforms. ToTensor(),\n",
        "                                                    transforms.Normalize((0.5,),(0.5,))\n",
        "                                                    \n",
        "                                                ]))\n",
        "\n"
      ],
      "metadata": {
        "id": "60NJU0oCepqN"
      },
      "execution_count": null,
      "outputs": []
    },
    {
      "cell_type": "code",
      "metadata": {
        "id": "DhBZv126Swr8"
      },
      "source": [
        "\n",
        "train_dataset = CovidDataset(root='covid_dataset/', split='train',\n",
        "                                                transform=transforms.Compose([\n",
        "                                                    transforms.RandomResizedCrop(224),\n",
        "                                                    transforms. ToTensor(),\n",
        "                                                    transforms.Normalize(mean=[0.485, 0.456, 0.406],\n",
        "                                                                        std=[0.229, 0.224, 0.225])\n",
        "                                                ]))\n",
        "test_dataset = CovidDataset(root='covid_dataset/', split = 'test',\n",
        "                                              transform=transforms.Compose([\n",
        "                                                    transforms.Resize(256),\n",
        "                                                    transforms.CenterCrop(224),\n",
        "                                                    transforms. ToTensor(),\n",
        "                                                    transforms.Normalize(mean=[0.485, 0.456, 0.406],\n",
        "                                                                         std=[0.229, 0.224, 0.225])\n",
        "                                                ]))\n",
        "\n",
        "print(train_dataset[0])\n",
        "\n",
        "train_loader = torch.utils.data.DataLoader(train_dataset, batch_size=256, shuffle=True)\n",
        "test_loader= torch.utils.data.DataLoader(test_dataset, batch_size=256, shuffle=True)\n",
        "\n",
        "class_names = train_dataset.classes\n",
        "\n",
        "def imshow(inp, title = None):\n",
        "  plt.figure(figsize=(10,20))\n",
        "  inp = inp.numpy().transpose((1, 2, 0))\n",
        "  mean = np.array([0.5])\n",
        "  std = np.array([0.5])\n",
        "  inp = std * inp + mean\n",
        "  inp = np.clip(inp, 0, 1)\n",
        "  plt.imshow(inp)\n",
        "  \n",
        "  if title is not None:\n",
        "    plt.title(title)\n",
        "  plt.pause(0.001)\n",
        "  \n",
        "inputs, classes = next(iter(train_loader))\n",
        "out = torchvision.utils.make_grid(inputs)\n",
        "\n",
        "imshow(out, title=[class_names[x] for x in classes])\n",
        "\n",
        "device = ('cuda' if torch.cuda.is_available() else 'cpu')"
      ],
      "execution_count": null,
      "outputs": []
    },
    {
      "cell_type": "code",
      "metadata": {
        "id": "F98MjWyzd31M"
      },
      "source": [
        "img = test_dataset[3][0]\n",
        "inp = img.numpy().transpose((1, 2, 0))\n",
        "mean = np.array([0.485, 0.456, 0.406])\n",
        "std = np.array([0.229, 0.224, 0.225])\n",
        "inp = std * inp + mean\n",
        "inp = np.clip(inp, 0, 1)\n",
        "  \n",
        "  \n",
        "plt.figure()\n",
        "plt.imshow(inp.squeeze())\n",
        "plt.show()"
      ],
      "execution_count": null,
      "outputs": []
    },
    {
      "cell_type": "code",
      "metadata": {
        "id": "Cu4FnKTWVbh3"
      },
      "source": [
        "def train_model(model, criterio, optimizer, scheduler, num_epochs = 25):\n",
        "  since = time.time()\n",
        "  \n",
        "  best_model_wts = copy.deepcopy(model.state_dict())\n",
        "  best_acc = 0.0\n",
        "  \n",
        "  for epoch in range(num_epochs):\n",
        "    print('Epoch {}/{}'.format(epoch, num_epochs-1))\n",
        "    print('-' * 10)\n",
        "    \n",
        "    #Train model\n",
        "    scheduler.step()\n",
        "    model.train()\n",
        "    \n",
        "    running_loss = 0.0\n",
        "    running_corrects = 0.0\n",
        "    \n",
        "    for inputs, labels in train_loader:\n",
        "        inputs = inputs.to(device)\n",
        "        labels = labels.to(device)\n",
        "        \n",
        "        optimizer.zero_grad()\n",
        "        \n",
        "        outputs = model(inputs)\n",
        "        _, preds = torch.max(outputs, 1)\n",
        "        loss = criterion(outputs, labels)\n",
        "          \n",
        "        loss.backward()\n",
        "        optimizer.step()\n",
        "        \n",
        "        running_loss += loss.item() * inputs.size(0)\n",
        "        running_corrects += torch.sum(preds == labels.data)\n",
        "    \n",
        "    epoch_loss = running_loss /len(train_dataset)\n",
        "    epoch_acc = running_corrects.double() / len(train_dataset)\n",
        "      \n",
        "    print('Train Loss: {:.4f} Acc: {:.4f}'.format(epoch_loss, epoch_acc))\n",
        "    \n",
        "    #Validation \n",
        "    model.eval()\n",
        "    running_loss = 0.0\n",
        "    running_corrects = 0.0\n",
        "    \n",
        "    for inputs, labels in test_loader:\n",
        "      inputs = inputs.to(device)\n",
        "      labels = labels.to(device)\n",
        "        \n",
        "      with torch.set_grad_enabled(False):\n",
        "        outputs = model(inputs)\n",
        "        _, preds = torch.max(outputs, 1)\n",
        "        loss = criterion(outputs, labels)\n",
        "          \n",
        "      running_loss += loss.item() * inputs.size(0)\n",
        "      running_corrects += torch.sum(preds == labels.data)\n",
        "     \n",
        "    epoch_loss = running_loss /len(test_dataset)\n",
        "    epoch_acc = running_corrects.double() / len(test_dataset)\n",
        "      \n",
        "    print('Val Loss: {:.4f} Acc: {:.4f}'.format(epoch_loss, epoch_acc))\n",
        "    \n",
        "    if epoch_acc > best_acc:\n",
        "        best_acc = epoch_acc\n",
        "        best_model_wts = copy.deepcopy(model.state_dict())\n",
        "        \n",
        "  time_elapsed = time.time() - since\n",
        "  print('Training complete in {:.0f}m {:.0f}s'.format(time_elapsed//60, time_elapsed % 60))\n",
        "  print('Best val accucary: {:.4f}'.format(best_acc))\n",
        "\n",
        "  model.load_state_dict(best_model_wts)\n",
        "  return model\n",
        "        \n",
        "    "
      ],
      "execution_count": 86,
      "outputs": []
    },
    {
      "cell_type": "code",
      "metadata": {
        "id": "0wRF7RwJYccr"
      },
      "source": [
        "def visualize_model(model, num_images = 6):\n",
        "  was_training = model.training\n",
        "  model.eval()\n",
        "  images_so_far = 0\n",
        "  fig = plt.figure()\n",
        "  \n",
        "  with torch.no_grad():\n",
        "    for i, (inputs, labels) in enumerate(test_loader):\n",
        "      inputs = inputs.to(device)\n",
        "      labels = labels.to(device)\n",
        "      \n",
        "      outputs = model(inputs)\n",
        "      _, preds = torch.max(outputs, 1)\n",
        "      \n",
        "      for j in range(inputs.size()[0]):\n",
        "        images_so_far +=1\n",
        "        ax = plt.subplot(num_images//2, 2, images_so_far)\n",
        "        ax.axis('off')\n",
        "        ax.set_title('predicted: {}'.format(class_names[preds[j]]))\n",
        "        imshow(inputs.cpu().data[j])\n",
        "        \n",
        "        if images_so_far == num_images:\n",
        "          model.train(mode=was_training)\n",
        "          return\n",
        "    model.train(mode = was_training)\n",
        "        "
      ],
      "execution_count": 87,
      "outputs": []
    },
    {
      "cell_type": "code",
      "metadata": {
        "id": "OUG6PPxtI76U"
      },
      "source": [
        "model_ft = models.resnet18(pretrained=True)\n",
        "\n",
        "print(model_ft)"
      ],
      "execution_count": null,
      "outputs": []
    },
    {
      "cell_type": "code",
      "metadata": {
        "id": "idCxghKLCbDj"
      },
      "source": [
        "import torchsummary as ts\n",
        "\n",
        "ts.summary(model_ft.to(device), input_size=(3,224,224))"
      ],
      "execution_count": null,
      "outputs": []
    },
    {
      "cell_type": "code",
      "metadata": {
        "id": "AX6EE7R3LtbA"
      },
      "source": [
        "#Fine tuning\n",
        "num_ft = model_ft.fc.in_features\n",
        "model_ft.fc = nn.Linear(num_ft, 3)\n",
        "\n",
        "model_ft = model_ft.to(device)\n",
        "criterion = nn.CrossEntropyLoss()\n",
        "optimizer = torch.optim.SGD(model_ft.parameters(), lr=0.001, momentum=0.9)\n",
        "exp_lr_scheduler = torch.optim.lr_scheduler.StepLR(optimizer, step_size=7, gamma=0.1)\n",
        "\n",
        "model_ft = train_model(model_ft, criterion, optimizer, exp_lr_scheduler, num_epochs=25)"
      ],
      "execution_count": null,
      "outputs": []
    },
    {
      "cell_type": "code",
      "metadata": {
        "id": "IwV32sT-Qlr3"
      },
      "source": [
        "visualize_model(model_ft)"
      ],
      "execution_count": null,
      "outputs": []
    },
    {
      "cell_type": "code",
      "metadata": {
        "id": "zu8p86KDR4hB"
      },
      "source": [
        "# Freeze \n",
        "model_conv = torchvision.models.resnet18(pretrained=True)\n",
        "for param in model_conv.parameters():\n",
        "  param.requires_grad = False\n",
        "  \n",
        "num_ft = model_conv.fc.in_features\n",
        "model_conv.fc = nn.Linear(num_ft,3)\n",
        "\n",
        "model_conv = model_conv.to(device)\n",
        "criterion = nn.CrossEntropyLoss()\n",
        "\n",
        "optimizer_conv = torch.optim.SGD(model_conv.fc.parameters(), lr = 0.001, momentum=0.9)\n",
        "exp_lr_scheduler = torch.optim.lr_scheduler.StepLR(optimizer_conv, step_size=7, gamma = 0.1)\n",
        "\n",
        "model_conv = train_model(model_conv, criterion, optimizer_conv, exp_lr_scheduler, num_epochs=25)"
      ],
      "execution_count": null,
      "outputs": []
    }
  ]
}