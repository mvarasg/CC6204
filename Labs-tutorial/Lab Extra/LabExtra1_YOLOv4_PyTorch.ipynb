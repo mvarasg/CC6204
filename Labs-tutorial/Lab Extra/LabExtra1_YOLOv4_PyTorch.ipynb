{
  "cells": [
    {
      "cell_type": "markdown",
      "metadata": {
        "colab_type": "text",
        "id": "5q3s60oQjmHa"
      },
      "source": [
        "# Entrenamiento de detección de objetos con dataset propio\n",
        "En este notebook entrenaremos una arquitectura Yolo-v4 para detectar objetos de un dataset propio. Usaremos transfer learning y fine-tuning para hacer que un modelo pre-entrenado con COCO dataset aprenda los nuevos objetos del dataset propio.\n",
        "\n",
        "Por favor seguir las instrucciones a continuación"
      ]
    },
    {
      "cell_type": "markdown",
      "metadata": {
        "colab_type": "text",
        "id": "E8Pr04DEjBtk"
      },
      "source": [
        "# Configuración de Yolo-v4\n",
        "Clonamos el repositorio con el código fuente."
      ]
    },
    {
      "cell_type": "code",
      "execution_count": null,
      "metadata": {
        "colab": {},
        "colab_type": "code",
        "id": "rX_tj9SLtake",
        "vscode": {
          "languageId": "python"
        }
      },
      "outputs": [],
      "source": [
        "!git clone https://github.com/ivansipiran/pytorch-YOLOv4.git"
      ]
    },
    {
      "cell_type": "markdown",
      "metadata": {
        "colab_type": "text",
        "id": "QwefGkTLhdtu"
      },
      "source": [
        "Instalamos los requerimientos necesarios para que funcione el código fuente."
      ]
    },
    {
      "cell_type": "code",
      "execution_count": null,
      "metadata": {
        "colab": {},
        "colab_type": "code",
        "id": "2dcOE23gvbHj",
        "vscode": {
          "languageId": "python"
        }
      },
      "outputs": [],
      "source": [
        "%cd /content/pytorch-YOLOv4\n",
        "!pip install -r requirements.txt"
      ]
    },
    {
      "cell_type": "markdown",
      "metadata": {
        "colab_type": "text",
        "id": "PzLEdltnhpKy"
      },
      "source": [
        "Descargamos los pesos del detector pre-entrenado. El modelo ya se encuentra almacenado en formato de Pytorch."
      ]
    },
    {
      "cell_type": "code",
      "execution_count": null,
      "metadata": {
        "colab": {},
        "colab_type": "code",
        "id": "UYIS9QfDyCK9",
        "vscode": {
          "languageId": "python"
        }
      },
      "outputs": [],
      "source": [
        "%cd /content/pytorch-YOLOv4\n",
        "!gdown https://drive.google.com/uc?id=1fcbR0bWzYfIEdLJPzOsn4R5mlvR6IQyA"
      ]
    },
    {
      "cell_type": "markdown",
      "metadata": {
        "colab_type": "text",
        "id": "1YW7jPF1BOAw"
      },
      "source": [
        "#Dataset\n",
        "\n",
        "Descargar el dataset para el entrenamiento. Este dataset contiene piezas de ajedrez que queremos aprender a detectar. El modelo pre-entrenado no tuvo a este tipo de objetos en los datos del pre-entrenamiento, así que la idea es aprender estos nuevos objetos."
      ]
    },
    {
      "cell_type": "code",
      "execution_count": null,
      "metadata": {
        "colab": {},
        "colab_type": "code",
        "id": "lui6tBJKvqVS",
        "vscode": {
          "languageId": "python"
        }
      },
      "outputs": [],
      "source": [
        "!wget http://www.ivan-sipiran.com/downloads/datasetchess.zip\n",
        "!unzip datasetchess.zip"
      ]
    },
    {
      "cell_type": "markdown",
      "metadata": {
        "colab_type": "text",
        "id": "q4xZ3FJkqfg5"
      },
      "source": [
        "Miremos algunos ejemplos de los datos. Hay tres folders (train, test, valid) con imágenes. Cada folder contiene un archivo con las anotaciones de los objetos a detectar. En este código, mostramos una imagen y sus anotaciones."
      ]
    },
    {
      "cell_type": "code",
      "execution_count": null,
      "metadata": {
        "colab": {},
        "colab_type": "code",
        "id": "AfxLTP5ildab",
        "vscode": {
          "languageId": "python"
        }
      },
      "outputs": [],
      "source": [
        "#Chequearemos algunos datos del ground-truth\n",
        "import random\n",
        "import seaborn as sns\n",
        "import cv2\n",
        "import matplotlib.pyplot as plt\n",
        "\n",
        "folder = 'train'\n",
        "\n",
        "#Leemos el archivo de anotaciones\n",
        "lineList = []\n",
        "with open(folder + '/_annotations.txt') as f:\n",
        "    line = f.readline()\n",
        "    lineList.append(line.strip())\n",
        "    while line:\n",
        "        line = f.readline()\n",
        "        if len(line)> 0:\n",
        "            lineList.append(line.strip())\n",
        "\n",
        "#Leer las clases dentro del folder\n",
        "classList = []\n",
        "with open(folder + '/_classes.txt') as f:\n",
        "    line = f.readline()\n",
        "    classList.append(line.strip())\n",
        "    while line:\n",
        "        line = f.readline()\n",
        "        if len(line)>0:\n",
        "            classList.append(line.strip())\n",
        "\n",
        "numClasses = len(classList)\n",
        "print(f'Número de clases:{numClasses}')\n",
        "\n",
        "randomTest = random.choice(lineList)\n",
        "annotations = randomTest.split()\n",
        "\n",
        "palette = sns.color_palette(None, numClasses)\n",
        "\n",
        "img = cv2.imread(folder+'/'+annotations[0])\n",
        "\n",
        "for i in range(1,len(annotations)):\n",
        "    bboxData = annotations[i].split(',')\n",
        "    color = palette[int(bboxData[4])]\n",
        "    print(color)\n",
        "    cv2.rectangle(img, (int(bboxData[0]), int(bboxData[1])),(int(bboxData[2]), int(bboxData[3])), (int(color[0]*255),int(color[1]*255), int(color[2]*255)), 2, 1)\n",
        "\n",
        "plt.figure(figsize=(10,10))\n",
        "plt.imshow(img[:,:,::-1])\n",
        "plt.show()\n"
      ]
    },
    {
      "cell_type": "code",
      "execution_count": null,
      "metadata": {
        "colab": {},
        "colab_type": "code",
        "id": "lAoLxBEEz4FW",
        "vscode": {
          "languageId": "python"
        }
      },
      "outputs": [],
      "source": [
        "#Copiar los archivos de anotaciones a los folders de Yolo\n",
        "\n",
        "%cp train/_annotations.txt train/train.txt\n",
        "%cp train/_annotations.txt train.txt\n",
        "%cp valid/_annotations.txt data/val.txt\n",
        "%cp valid/*.jpg train/"
      ]
    },
    {
      "cell_type": "code",
      "execution_count": null,
      "metadata": {
        "colab": {},
        "colab_type": "code",
        "id": "TvwlqXkSlwUm",
        "vscode": {
          "languageId": "python"
        }
      },
      "outputs": [],
      "source": [
        "# El número de clases es el número de líneas del archivo \"_classes.txt\"\n",
        "def file_len(fname):\n",
        "  with open(fname) as f:\n",
        "    for i, l in enumerate(f):\n",
        "      pass\n",
        "  return i + 1\n",
        "\n",
        "num_classes = file_len('train/_classes.txt')"
      ]
    },
    {
      "cell_type": "code",
      "execution_count": 8,
      "metadata": {
        "colab": {
          "base_uri": "https://localhost:8080/",
          "height": 34
        },
        "colab_type": "code",
        "id": "m6xrTj1gREEc",
        "outputId": "82d1b3c6-1fa1-4df1-80fc-48c1a16983bc",
        "vscode": {
          "languageId": "python"
        }
      },
      "outputs": [
        {
          "name": "stdout",
          "output_type": "stream",
          "text": [
            "2\n"
          ]
        }
      ],
      "source": [
        "print(num_classes)"
      ]
    },
    {
      "cell_type": "markdown",
      "metadata": {
        "colab_type": "text",
        "id": "Uly0ZrqGjR9w"
      },
      "source": [
        "# Entrenar el detector propio"
      ]
    },
    {
      "cell_type": "code",
      "execution_count": null,
      "metadata": {
        "colab": {},
        "colab_type": "code",
        "id": "mIlhqP2S57Ub",
        "vscode": {
          "languageId": "python"
        }
      },
      "outputs": [],
      "source": [
        "#Entrenamiento\n",
        "#-b batch size (mantener este valor bajo (2-4))\n",
        "#-s número de subdivisiones en el batch, relevante en el framework darknet\n",
        "#-l learning rate\n",
        "#-g GPU device\n",
        "#pretrained indicar conde se encuentran los pesos pre-entrenados\n",
        "#classes - número de clases\n",
        "#dir - dónde está la data de entrenamiento\n",
        "#epoch - número de épocas\n",
        "!python train.py -b 2 -s 1 -l 0.001 -g 0 -pretrained ./yolov4.conv.137.pth -classes {num_classes} -dir ./train -epochs 50"
      ]
    },
    {
      "cell_type": "markdown",
      "metadata": {
        "colab_type": "text",
        "id": "CR87FGKijXbI"
      },
      "source": [
        "# Cargar pesos entrenados y probar el detector\n",
        "\n",
        "Cargamos los pesos!"
      ]
    },
    {
      "cell_type": "code",
      "execution_count": null,
      "metadata": {
        "colab": {},
        "colab_type": "code",
        "id": "5iR0H_DUoOl-",
        "vscode": {
          "languageId": "python"
        }
      },
      "outputs": [],
      "source": [
        "#En esta carpeta deben estar todos los checkpoints guardados durante el entrenamiento\n",
        "!ls checkpoints"
      ]
    },
    {
      "cell_type": "code",
      "execution_count": null,
      "metadata": {
        "colab": {},
        "colab_type": "code",
        "id": "Vutw9YXmhvWo",
        "vscode": {
          "languageId": "python"
        }
      },
      "outputs": [],
      "source": [
        "#Escoger una imagen aleatoria\n",
        "import os\n",
        "test_images = [f for f in os.listdir('test') if f.endswith('.jpg')]\n",
        "import random\n",
        "img_path = \"test/\" + random.choice(test_images);"
      ]
    },
    {
      "cell_type": "code",
      "execution_count": null,
      "metadata": {
        "colab": {},
        "colab_type": "code",
        "id": "091QOGGihsuV",
        "vscode": {
          "languageId": "python"
        }
      },
      "outputs": [],
      "source": [
        "%%time\n",
        "##Usar el checkpoint que deseas para probar la inferencia\n",
        "!python models.py {num_classes} checkpoints/Yolov4_epoch46.pth {img_path} test/_classes.txt"
      ]
    },
    {
      "cell_type": "code",
      "execution_count": null,
      "metadata": {
        "colab": {},
        "colab_type": "code",
        "id": "Af8tiXQLrGgk",
        "vscode": {
          "languageId": "python"
        }
      },
      "outputs": [],
      "source": [
        "#Después de la inferencia, el resultado se encuentra en la imagen \"predictions.jpg\"\n",
        "#Visualizar la inferencia\n",
        "from IPython.display import Image\n",
        "Image('predictions.jpg')"
      ]
    },
    {
      "cell_type": "markdown",
      "metadata": {
        "colab_type": "text",
        "id": "aGq6_HJpr1uO"
      },
      "source": [
        "# Ejercicio\n",
        "\n",
        "Usar el dataset de detección de mascarillas: [www.ivan-sipiran.com/downloads/maskwearing6.zip](www.ivan-sipiran.com/downloads/maskwearing6.zip). Intenta diferentes parámetros, este dataset es más difícil.\n",
        "\n",
        "También podrías anotar tu propio dataset usando herramientas como: [LabelImg](https://github.com/tzutalin/labelImg), o [VoTT](https://github.com/microsoft/VoTT). Probablmente necesites cambiar el formato de los datos dependiendo del modelo que quieras entrenar."
      ]
    },
    {
      "cell_type": "code",
      "execution_count": null,
      "metadata": {
        "colab": {},
        "colab_type": "code",
        "id": "ozIOzGZbtTqB",
        "vscode": {
          "languageId": "python"
        }
      },
      "outputs": [],
      "source": []
    }
  ],
  "metadata": {
    "accelerator": "GPU",
    "colab": {
      "collapsed_sections": [],
      "name": "YOLOv4-PyTorch.ipynb",
      "provenance": []
    },
    "kernelspec": {
      "display_name": "Python 3",
      "name": "python3"
    }
  },
  "nbformat": 4,
  "nbformat_minor": 0
}
