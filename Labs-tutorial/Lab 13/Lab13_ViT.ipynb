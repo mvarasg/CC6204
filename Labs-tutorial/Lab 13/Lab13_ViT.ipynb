{
  "nbformat": 4,
  "nbformat_minor": 0,
  "metadata": {
    "accelerator": "GPU",
    "colab": {
      "provenance": []
    },
    "kernelspec": {
      "display_name": "Python 3",
      "name": "python3"
    },
    "language_info": {
      "name": "python"
    },
    "gpuClass": "standard"
  },
  "cells": [
    {
      "cell_type": "code",
      "source": [
        "#Instalamos el paquete gdown para poder descargar el dataset desde el gdrive\n",
        "!pip install gdown"
      ],
      "metadata": {
        "id": "O6SrJKeTRr2u"
      },
      "execution_count": null,
      "outputs": []
    },
    {
      "cell_type": "code",
      "source": [
        "#Descargamos el dataset\n",
        "import gdown\n",
        "output = 'blood2.zip'\n",
        "gdown.download(id='1Uic5AmCmaP2-Um_q8OxpiATjylqQjQ7E', output=output, quiet=False)"
      ],
      "metadata": {
        "id": "Ph0G5KI-SRR4"
      },
      "execution_count": null,
      "outputs": []
    },
    {
      "cell_type": "code",
      "source": [
        "# Descomprimimos el dataset\n",
        "!unzip blood2.zip"
      ],
      "metadata": {
        "id": "1koVUo-fSVi2"
      },
      "execution_count": null,
      "outputs": []
    },
    {
      "cell_type": "code",
      "metadata": {
        "id": "1xKo7kiHvSNp"
      },
      "source": [
        "# blocks output in Colab 💄\n",
        "%%capture\n",
        "\n",
        "#Instalamos los paquetes de HuggingFace\n",
        "\n",
        "! pip install datasets transformers"
      ],
      "execution_count": null,
      "outputs": []
    },
    {
      "cell_type": "markdown",
      "metadata": {
        "id": "J5X9j8AhPqzn"
      },
      "source": [
        "## Cargar dataset"
      ]
    },
    {
      "cell_type": "code",
      "metadata": {
        "id": "elfg4GzYT2YY"
      },
      "source": [
        "from datasets import load_dataset\n",
        "\n",
        "ds = load_dataset('imagefolder', data_dir=\"blood/images\")\n",
        "ds"
      ],
      "execution_count": null,
      "outputs": []
    },
    {
      "cell_type": "code",
      "metadata": {
        "id": "_gxWwQAHWE-y"
      },
      "source": [
        "ex = ds['train'][400]\n",
        "ex"
      ],
      "execution_count": null,
      "outputs": []
    },
    {
      "cell_type": "code",
      "source": [
        "image = ex['image']\n",
        "image"
      ],
      "metadata": {
        "id": "tWgpygDsYjNJ"
      },
      "execution_count": null,
      "outputs": []
    },
    {
      "cell_type": "code",
      "metadata": {
        "id": "EhspADExfD93"
      },
      "source": [
        "# Extraemos las etiquetas del problema\n",
        "\n",
        "labels = ds['train'].features['label']\n",
        "labels"
      ],
      "execution_count": null,
      "outputs": []
    },
    {
      "cell_type": "code",
      "metadata": {
        "id": "FIq4B4PdlMIc"
      },
      "source": [
        "labels.int2str(ex['label'])"
      ],
      "execution_count": null,
      "outputs": []
    },
    {
      "cell_type": "code",
      "metadata": {
        "id": "FHrhvOGCmlM2"
      },
      "source": [
        "#from transformers.utils.dummy_vision_objects import ImageGPTFeatureExtractor\n",
        "\n",
        "# Mostramos algunos ejemplos de cada clase\n",
        "\n",
        "import random\n",
        "from PIL import ImageDraw, ImageFont, Image\n",
        "\n",
        "def show_examples(ds, seed: int = 1234, examples_per_class: int = 3, size=(350, 350)):\n",
        "\n",
        "    w, h = size\n",
        "    labels = ds['train'].features['label'].names\n",
        "    grid = Image.new('RGB', size=(examples_per_class * w, len(labels) * h))\n",
        "    draw = ImageDraw.Draw(grid)\n",
        "    font = ImageFont.truetype(\"/usr/share/fonts/truetype/liberation/LiberationMono-Bold.ttf\", 24)\n",
        "\n",
        "    for label_id, label in enumerate(labels):\n",
        "\n",
        "        # Filter the dataset by a single label, shuffle it, and grab a few samples\n",
        "        ds_slice = ds['train'].filter(lambda ex: ex['label'] == label_id).shuffle(seed).select(range(examples_per_class))\n",
        "\n",
        "        # Plot this label's examples along a row\n",
        "        for i, example in enumerate(ds_slice):\n",
        "            image = example['image']\n",
        "            idx = examples_per_class * label_id + i\n",
        "            box = (idx % examples_per_class * w, idx // examples_per_class * h)\n",
        "            grid.paste(image.resize(size), box=box)\n",
        "            draw.text(box, label, (255, 255, 255), font=font)\n",
        "\n",
        "    return grid\n",
        "\n",
        "show_examples(ds, seed=random.randint(0, 1337), examples_per_class=3)"
      ],
      "execution_count": null,
      "outputs": []
    },
    {
      "cell_type": "markdown",
      "source": [
        "# Crear Preprocesador de datos"
      ],
      "metadata": {
        "id": "d-Mnu13XHNcH"
      }
    },
    {
      "cell_type": "code",
      "metadata": {
        "id": "Ct6zPRixIUoI"
      },
      "source": [
        "# Cada modelo tiene su propia clase para pre-procesar datos\n",
        "\n",
        "from transformers import ViTFeatureExtractor\n",
        "\n",
        "model_name_or_path = 'google/vit-base-patch16-224-in21k'\n",
        "feature_extractor = ViTFeatureExtractor.from_pretrained(model_name_or_path)"
      ],
      "execution_count": null,
      "outputs": []
    },
    {
      "cell_type": "code",
      "metadata": {
        "id": "ea22sEWLIg4e"
      },
      "source": [
        "feature_extractor"
      ],
      "execution_count": null,
      "outputs": []
    },
    {
      "cell_type": "code",
      "metadata": {
        "id": "3lne4VrXJRIe"
      },
      "source": [
        "feature_extractor(image, return_tensors='pt')"
      ],
      "execution_count": null,
      "outputs": []
    },
    {
      "cell_type": "code",
      "metadata": {
        "id": "0U48pAEuMLQh"
      },
      "source": [
        "def process_example(example):\n",
        "    inputs = feature_extractor(example['image'], return_tensors='pt')\n",
        "    inputs['labels'] = example['label']\n",
        "    return inputs"
      ],
      "execution_count": null,
      "outputs": []
    },
    {
      "cell_type": "code",
      "metadata": {
        "id": "WmIilnQ-MbhG"
      },
      "source": [
        "process_example(ds['train'][0])"
      ],
      "execution_count": null,
      "outputs": []
    },
    {
      "cell_type": "code",
      "metadata": {
        "id": "Z_sF61AoM3X1"
      },
      "source": [
        "def transform(example_batch):\n",
        "    # Take a list of PIL images and turn them to pixel values\n",
        "    inputs = feature_extractor([x for x in example_batch['image']], return_tensors='pt')\n",
        "\n",
        "    # Don't forget to include the labels!\n",
        "    inputs['labels'] = example_batch['label']\n",
        "    return inputs\n",
        "\n",
        "prepared_ds = ds.with_transform(transform)"
      ],
      "execution_count": null,
      "outputs": []
    },
    {
      "cell_type": "code",
      "metadata": {
        "id": "SZEwL06H9IQr"
      },
      "source": [
        "prepared_ds['train'][0:2]"
      ],
      "execution_count": null,
      "outputs": []
    },
    {
      "cell_type": "markdown",
      "source": [
        "# Entrenamiento"
      ],
      "metadata": {
        "id": "YlrEg8YlHSLf"
      }
    },
    {
      "cell_type": "code",
      "metadata": {
        "id": "aWOAPU__XLCX"
      },
      "source": [
        "\n",
        "import torch\n",
        "\n",
        "def collate_fn(batch):\n",
        "    return {\n",
        "        'pixel_values': torch.stack([x['pixel_values'] for x in batch]),\n",
        "        'labels': torch.tensor([x['labels'] for x in batch])\n",
        "    }"
      ],
      "execution_count": null,
      "outputs": []
    },
    {
      "cell_type": "code",
      "metadata": {
        "id": "9mT-g1j2U5xd"
      },
      "source": [
        "import numpy as np\n",
        "from datasets import load_metric\n",
        "\n",
        "metric = load_metric(\"accuracy\")\n",
        "def compute_metrics(p):\n",
        "    return metric.compute(predictions=np.argmax(p.predictions, axis=1), references=p.label_ids)"
      ],
      "execution_count": null,
      "outputs": []
    },
    {
      "cell_type": "code",
      "metadata": {
        "id": "O1ikGEXYVDPv"
      },
      "source": [
        "# Creamos y cargamos un modelo pre-entrenado\n",
        "\n",
        "from transformers import ViTForImageClassification\n",
        "\n",
        "labels = ds['train'].features['label'].names\n",
        "\n",
        "model = ViTForImageClassification.from_pretrained(\n",
        "    model_name_or_path,\n",
        "    num_labels=len(labels),\n",
        "    id2label={str(i): c for i, c in enumerate(labels)},\n",
        "    label2id={c: str(i) for i, c in enumerate(labels)}\n",
        ")"
      ],
      "execution_count": null,
      "outputs": []
    },
    {
      "cell_type": "code",
      "metadata": {
        "id": "t6g_73VHVDKK"
      },
      "source": [
        "# Los parámetros de entrenamiento se configuran en un objeto TrainingArguments\n",
        "\n",
        "from transformers import TrainingArguments\n",
        "\n",
        "training_args = TrainingArguments(\n",
        "  output_dir=\"./prueba\",\n",
        "  per_device_train_batch_size=16,\n",
        "  evaluation_strategy=\"steps\",\n",
        "  num_train_epochs=4,\n",
        "  fp16=True,\n",
        "  save_steps=100,\n",
        "  eval_steps=100,\n",
        "  logging_steps=10,\n",
        "  learning_rate=2e-4,\n",
        "  save_total_limit=2,\n",
        "  remove_unused_columns=False,\n",
        "  push_to_hub=False,\n",
        "  report_to='tensorboard',\n",
        "  load_best_model_at_end=True,\n",
        ")"
      ],
      "execution_count": null,
      "outputs": []
    },
    {
      "cell_type": "code",
      "metadata": {
        "id": "mwaYQIFMVDHW"
      },
      "source": [
        "#Creamos un objeto Trainer\n",
        "\n",
        "from transformers import Trainer\n",
        "\n",
        "trainer = Trainer(\n",
        "    model=model,\n",
        "    args=training_args,\n",
        "    data_collator=collate_fn,\n",
        "    compute_metrics=compute_metrics,\n",
        "    train_dataset=prepared_ds[\"train\"],\n",
        "    eval_dataset=prepared_ds[\"validation\"],\n",
        "    tokenizer=feature_extractor,\n",
        ")"
      ],
      "execution_count": null,
      "outputs": []
    },
    {
      "cell_type": "code",
      "metadata": {
        "id": "3rHP8IEEVDBE"
      },
      "source": [
        "# Hacemos el entrenamiento\n",
        "\n",
        "train_results = trainer.train()\n",
        "trainer.save_model()\n",
        "trainer.log_metrics(\"train\", train_results.metrics)\n",
        "trainer.save_metrics(\"train\", train_results.metrics)\n",
        "trainer.save_state()"
      ],
      "execution_count": null,
      "outputs": []
    },
    {
      "cell_type": "markdown",
      "source": [
        "# Test"
      ],
      "metadata": {
        "id": "90YS-TwSHU45"
      }
    },
    {
      "cell_type": "code",
      "metadata": {
        "id": "7fFsGHbLhxYK"
      },
      "source": [
        "# Testeamos sobre la data de test\n",
        "\n",
        "metrics = trainer.evaluate(prepared_ds['test'])\n",
        "trainer.log_metrics(\"eval\", metrics)\n",
        "trainer.save_metrics(\"eval\", metrics)"
      ],
      "execution_count": null,
      "outputs": []
    },
    {
      "cell_type": "markdown",
      "source": [
        "# Inference"
      ],
      "metadata": {
        "id": "KbgwJTjoJAiW"
      }
    },
    {
      "cell_type": "code",
      "source": [
        "from transformers import pipeline\n",
        "\n",
        "\n",
        "vision_classifier = pipeline(task='image-classification', model=model, feature_extractor=feature_extractor, device='cuda:0')\n",
        "preds = vision_classifier(images='/content/blood/images/test/EOSINOPHIL/_0_1616.jpeg')\n",
        "print(preds)"
      ],
      "metadata": {
        "id": "_kv8q4u4JCB1"
      },
      "execution_count": null,
      "outputs": []
    },
    {
      "cell_type": "code",
      "source": [],
      "metadata": {
        "id": "D0QAzgwCJzEI"
      },
      "execution_count": null,
      "outputs": []
    }
  ]
}